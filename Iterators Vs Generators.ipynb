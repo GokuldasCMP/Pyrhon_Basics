{
 "cells": [
  {
   "cell_type": "markdown",
   "id": "e1ae39ed",
   "metadata": {},
   "source": [
    "## Iterators Vs Generators"
   ]
  },
  {
   "cell_type": "code",
   "execution_count": 1,
   "id": "67f408d0",
   "metadata": {},
   "outputs": [
    {
     "name": "stdout",
     "output_type": "stream",
     "text": [
      "1\n",
      "2\n",
      "3\n",
      "4\n",
      "5\n",
      "6\n",
      "7\n",
      "8\n",
      "9\n"
     ]
    }
   ],
   "source": [
    "# iterable\n",
    "lst=[1,2,3,4,5,6,7,8,9]\n",
    "for i in lst:\n",
    "    print(i)"
   ]
  },
  {
   "cell_type": "code",
   "execution_count": 2,
   "id": "931ec450",
   "metadata": {},
   "outputs": [],
   "source": [
    "# iterator\n",
    "iterable=iter(lst)"
   ]
  },
  {
   "cell_type": "code",
   "execution_count": 3,
   "id": "cc0b1289",
   "metadata": {},
   "outputs": [
    {
     "name": "stdout",
     "output_type": "stream",
     "text": [
      "1\n",
      "2\n",
      "3\n",
      "4\n",
      "5\n",
      "6\n",
      "7\n",
      "8\n",
      "9\n"
     ]
    }
   ],
   "source": [
    "# we can also iterate through an iterator\n",
    "for i in iterable:\n",
    "    print(i)\n",
    "    "
   ]
  },
  {
   "cell_type": "code",
   "execution_count": 4,
   "id": "d58cf697",
   "metadata": {},
   "outputs": [
    {
     "data": {
      "text/plain": [
       "list_iterator"
      ]
     },
     "execution_count": 4,
     "metadata": {},
     "output_type": "execute_result"
    }
   ],
   "source": [
    "type(iterable)"
   ]
  },
  {
   "cell_type": "code",
   "execution_count": 5,
   "id": "e4c5f112",
   "metadata": {},
   "outputs": [
    {
     "data": {
      "text/plain": [
       "<list_iterator at 0x13a04981310>"
      ]
     },
     "execution_count": 5,
     "metadata": {},
     "output_type": "execute_result"
    }
   ],
   "source": [
    "iterable"
   ]
  },
  {
   "cell_type": "code",
   "execution_count": 6,
   "id": "c3902ddb",
   "metadata": {
    "scrolled": true
   },
   "outputs": [
    {
     "name": "stdout",
     "output_type": "stream",
     "text": [
      "The iterator is empty\n"
     ]
    }
   ],
   "source": [
    "try:\n",
    "    print(next(iterable))\n",
    "          \n",
    "except StopIteration:\n",
    "    print(\"The iterator is empty\")\n"
   ]
  },
  {
   "cell_type": "code",
   "execution_count": 7,
   "id": "2149523f",
   "metadata": {},
   "outputs": [],
   "source": [
    "# How we can create a generator useful to create iterator\n",
    "# we use to create an iterator using a gnerator\n"
   ]
  },
  {
   "cell_type": "code",
   "execution_count": 8,
   "id": "cbbfe632",
   "metadata": {},
   "outputs": [],
   "source": [
    "# Generator\n",
    "def square(n) :\n",
    "    for i in range(n):\n",
    "        return i**2"
   ]
  },
  {
   "cell_type": "code",
   "execution_count": 9,
   "id": "2c69841c",
   "metadata": {},
   "outputs": [
    {
     "data": {
      "text/plain": [
       "0"
      ]
     },
     "execution_count": 9,
     "metadata": {},
     "output_type": "execute_result"
    }
   ],
   "source": [
    "square(5)"
   ]
  },
  {
   "cell_type": "code",
   "execution_count": 10,
   "id": "06d48ec9",
   "metadata": {},
   "outputs": [],
   "source": [
    "# Generator\n",
    "def square(n) :\n",
    "    for i in range(n):\n",
    "        yield i**2 # when we convert the return into yield , it will make this entire  function to an iterator but it is a kind of generator  "
   ]
  },
  {
   "cell_type": "code",
   "execution_count": 11,
   "id": "c43a0bab",
   "metadata": {},
   "outputs": [],
   "source": [
    "# Generator basically used  in order to create iterator"
   ]
  },
  {
   "cell_type": "code",
   "execution_count": 12,
   "id": "a3d6b107",
   "metadata": {},
   "outputs": [],
   "source": [
    "# Generator\n",
    "def square(n) :\n",
    "    for i in range(n):\n",
    "        yield i**2"
   ]
  },
  {
   "cell_type": "code",
   "execution_count": 13,
   "id": "8af2dbeb",
   "metadata": {},
   "outputs": [
    {
     "data": {
      "text/plain": [
       "<generator object square at 0x0000013A049CEB30>"
      ]
     },
     "execution_count": 13,
     "metadata": {},
     "output_type": "execute_result"
    }
   ],
   "source": [
    "square(5)"
   ]
  },
  {
   "cell_type": "code",
   "execution_count": 14,
   "id": "8d750aa0",
   "metadata": {},
   "outputs": [],
   "source": [
    "# if a collection is an iterator we can traverse through using for loop "
   ]
  },
  {
   "cell_type": "code",
   "execution_count": 15,
   "id": "5b817817",
   "metadata": {},
   "outputs": [
    {
     "name": "stdout",
     "output_type": "stream",
     "text": [
      "0\n",
      "1\n",
      "4\n",
      "9\n",
      "16\n"
     ]
    }
   ],
   "source": [
    "for  i in square(5):\n",
    "    print(i)"
   ]
  },
  {
   "cell_type": "code",
   "execution_count": 16,
   "id": "23914f4b",
   "metadata": {},
   "outputs": [],
   "source": [
    "# usefulness of yield keyword - it just not return with respect to only one iteration\n",
    "# it will return with respect to all the iteration present over there. It will saving that particular value"
   ]
  },
  {
   "cell_type": "code",
   "execution_count": 17,
   "id": "f2c87d79",
   "metadata": {},
   "outputs": [],
   "source": [
    "# this generator object internally creating an iterator "
   ]
  },
  {
   "cell_type": "raw",
   "id": "29633fa6",
   "metadata": {},
   "source": []
  },
  {
   "cell_type": "code",
   "execution_count": 26,
   "id": "0042c6cd",
   "metadata": {},
   "outputs": [
    {
     "data": {
      "text/plain": [
       "<generator object square at 0x0000013A04A8DC80>"
      ]
     },
     "execution_count": 26,
     "metadata": {},
     "output_type": "execute_result"
    }
   ],
   "source": [
    "a=square(5)\n",
    "a"
   ]
  },
  {
   "cell_type": "code",
   "execution_count": 27,
   "id": "cdbe5601",
   "metadata": {},
   "outputs": [
    {
     "data": {
      "text/plain": [
       "0"
      ]
     },
     "execution_count": 27,
     "metadata": {},
     "output_type": "execute_result"
    }
   ],
   "source": [
    "next(a)"
   ]
  },
  {
   "cell_type": "markdown",
   "id": "e50f6185",
   "metadata": {},
   "source": [
    "#### difference between iter() and generator"
   ]
  },
  {
   "cell_type": "markdown",
   "id": "b1ee71ef",
   "metadata": {},
   "source": [
    "1. To create an iterator  we use iter function(). to create a generator we use function along with yield keyword.\n",
    "2. Generator uses the yiled key wod- it saves the local variable value\n",
    "3. Generator in python helps us to write fast and compact code\n",
    "4. Python iterator much more memory efficient\n",
    "5. use of the next kyword"
   ]
  },
  {
   "cell_type": "code",
   "execution_count": 29,
   "id": "b21b6155",
   "metadata": {},
   "outputs": [],
   "source": [
    "import types,collections"
   ]
  },
  {
   "cell_type": "code",
   "execution_count": 32,
   "id": "0282dac0",
   "metadata": {},
   "outputs": [
    {
     "data": {
      "text/plain": [
       "True"
      ]
     },
     "execution_count": 32,
     "metadata": {},
     "output_type": "execute_result"
    }
   ],
   "source": [
    "issubclass(types.GeneratorType,collections.Iterator)"
   ]
  },
  {
   "cell_type": "code",
   "execution_count": null,
   "id": "c74649a7",
   "metadata": {},
   "outputs": [],
   "source": []
  },
  {
   "cell_type": "code",
   "execution_count": null,
   "id": "8eb0c226",
   "metadata": {},
   "outputs": [],
   "source": []
  },
  {
   "cell_type": "code",
   "execution_count": null,
   "id": "df1e8148",
   "metadata": {},
   "outputs": [],
   "source": []
  },
  {
   "cell_type": "code",
   "execution_count": null,
   "id": "2806c101",
   "metadata": {},
   "outputs": [],
   "source": []
  },
  {
   "cell_type": "code",
   "execution_count": null,
   "id": "b41a6b15",
   "metadata": {},
   "outputs": [],
   "source": []
  },
  {
   "cell_type": "code",
   "execution_count": null,
   "id": "f12677d8",
   "metadata": {},
   "outputs": [],
   "source": []
  },
  {
   "cell_type": "code",
   "execution_count": null,
   "id": "91d20951",
   "metadata": {},
   "outputs": [],
   "source": []
  },
  {
   "cell_type": "code",
   "execution_count": null,
   "id": "5f7e79a2",
   "metadata": {},
   "outputs": [],
   "source": []
  },
  {
   "cell_type": "code",
   "execution_count": null,
   "id": "7b0b7e05",
   "metadata": {},
   "outputs": [],
   "source": []
  }
 ],
 "metadata": {
  "kernelspec": {
   "display_name": "Python 3 (ipykernel)",
   "language": "python",
   "name": "python3"
  },
  "language_info": {
   "codemirror_mode": {
    "name": "ipython",
    "version": 3
   },
   "file_extension": ".py",
   "mimetype": "text/x-python",
   "name": "python",
   "nbconvert_exporter": "python",
   "pygments_lexer": "ipython3",
   "version": "3.9.13"
  }
 },
 "nbformat": 4,
 "nbformat_minor": 5
}
