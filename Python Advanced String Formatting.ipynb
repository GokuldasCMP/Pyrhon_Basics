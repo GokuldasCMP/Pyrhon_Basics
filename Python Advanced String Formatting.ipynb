{
 "cells": [
  {
   "cell_type": "code",
   "execution_count": 1,
   "id": "a619c8ff",
   "metadata": {},
   "outputs": [
    {
     "name": "stdout",
     "output_type": "stream",
     "text": [
      "hello World\n"
     ]
    }
   ],
   "source": [
    "print(\"hello World\")"
   ]
  },
  {
   "cell_type": "code",
   "execution_count": 2,
   "id": "33c0b481",
   "metadata": {},
   "outputs": [],
   "source": [
    "strs=\"Hello Everyone\""
   ]
  },
  {
   "cell_type": "code",
   "execution_count": 9,
   "id": "84c06892",
   "metadata": {},
   "outputs": [],
   "source": [
    "def greeting(name):\n",
    "    return\"Hello {} Welcome\".format(name)"
   ]
  },
  {
   "cell_type": "code",
   "execution_count": 10,
   "id": "5a5eda10",
   "metadata": {},
   "outputs": [
    {
     "data": {
      "text/plain": [
       "'Hello gokul Welcome'"
      ]
     },
     "execution_count": 10,
     "metadata": {},
     "output_type": "execute_result"
    }
   ],
   "source": [
    "greeting(\"gokul\")"
   ]
  },
  {
   "cell_type": "code",
   "execution_count": 11,
   "id": "f474ecc3",
   "metadata": {},
   "outputs": [],
   "source": [
    "def welcome_email(name,age):\n",
    "    return \"welcome {}. Your Age is {}\".format(name,age)"
   ]
  },
  {
   "cell_type": "code",
   "execution_count": 12,
   "id": "5f73c6f2",
   "metadata": {},
   "outputs": [
    {
     "data": {
      "text/plain": [
       "'welcome Gokul. Your Age is 27'"
      ]
     },
     "execution_count": 12,
     "metadata": {},
     "output_type": "execute_result"
    }
   ],
   "source": [
    "welcome_email(\"Gokul\",27)"
   ]
  },
  {
   "cell_type": "code",
   "execution_count": 13,
   "id": "108c7825",
   "metadata": {},
   "outputs": [],
   "source": [
    "# ordering place important role\n",
    "def welcome_email(name,age):\n",
    "    return \"welcome {}. Your Age is {}\".format(age,name)"
   ]
  },
  {
   "cell_type": "code",
   "execution_count": 14,
   "id": "2ad74c13",
   "metadata": {},
   "outputs": [
    {
     "data": {
      "text/plain": [
       "'welcome 27. Your Age is Gokul'"
      ]
     },
     "execution_count": 14,
     "metadata": {},
     "output_type": "execute_result"
    }
   ],
   "source": [
    "welcome_email(\"Gokul\",27)"
   ]
  },
  {
   "cell_type": "code",
   "execution_count": 15,
   "id": "26f00aec",
   "metadata": {},
   "outputs": [],
   "source": [
    "# so you can  give some temporary variable\n",
    "def welcome_email(name,age):\n",
    "    return \"welcome {name}. Your Age is {age}\".format(age=age,name=name)"
   ]
  },
  {
   "cell_type": "code",
   "execution_count": 16,
   "id": "911eae5d",
   "metadata": {},
   "outputs": [
    {
     "data": {
      "text/plain": [
       "'welcome Gokul. Your Age is 27'"
      ]
     },
     "execution_count": 16,
     "metadata": {},
     "output_type": "execute_result"
    }
   ],
   "source": [
    "welcome_email(\"Gokul\",27)"
   ]
  },
  {
   "cell_type": "code",
   "execution_count": 17,
   "id": "ec357d6d",
   "metadata": {},
   "outputs": [],
   "source": [
    "def welcome_email(name,age):\n",
    "    return \"welcome {n}. Your Age is {a}\".format(a=age,n=name)"
   ]
  },
  {
   "cell_type": "code",
   "execution_count": 18,
   "id": "753dcb7c",
   "metadata": {},
   "outputs": [
    {
     "data": {
      "text/plain": [
       "'welcome Gokul. Your Age is 27'"
      ]
     },
     "execution_count": 18,
     "metadata": {},
     "output_type": "execute_result"
    }
   ],
   "source": [
    "welcome_email(\"Gokul\",27)"
   ]
  },
  {
   "cell_type": "code",
   "execution_count": null,
   "id": "adbd356e",
   "metadata": {},
   "outputs": [],
   "source": []
  }
 ],
 "metadata": {
  "kernelspec": {
   "display_name": "Python 3 (ipykernel)",
   "language": "python",
   "name": "python3"
  },
  "language_info": {
   "codemirror_mode": {
    "name": "ipython",
    "version": 3
   },
   "file_extension": ".py",
   "mimetype": "text/x-python",
   "name": "python",
   "nbconvert_exporter": "python",
   "pygments_lexer": "ipython3",
   "version": "3.9.13"
  }
 },
 "nbformat": 4,
 "nbformat_minor": 5
}
