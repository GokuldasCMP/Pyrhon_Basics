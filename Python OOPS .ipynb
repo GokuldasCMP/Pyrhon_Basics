{
 "cells": [
  {
   "cell_type": "markdown",
   "id": "c5d3a30f",
   "metadata": {},
   "source": [
    "### OOPS in Python"
   ]
  },
  {
   "cell_type": "markdown",
   "id": "f9dc5c04",
   "metadata": {},
   "source": [
    "#### what is class? \n",
    "simply we can say that it is a blue print"
   ]
  },
  {
   "cell_type": "code",
   "execution_count": 2,
   "id": "d8e29a13",
   "metadata": {},
   "outputs": [],
   "source": [
    "# empty class\n",
    "class Car:\n",
    "    pass"
   ]
  },
  {
   "cell_type": "code",
   "execution_count": 3,
   "id": "3f3f08f7",
   "metadata": {},
   "outputs": [],
   "source": [
    "# instances can create fom this class  or we can instantiated from the particular class\n",
    "car1=Car()"
   ]
  },
  {
   "cell_type": "code",
   "execution_count": 4,
   "id": "99cf9c35",
   "metadata": {},
   "outputs": [
    {
     "data": {
      "text/plain": [
       "<__main__.Car at 0x15f9cee3760>"
      ]
     },
     "execution_count": 4,
     "metadata": {},
     "output_type": "execute_result"
    }
   ],
   "source": [
    "car1"
   ]
  },
  {
   "cell_type": "code",
   "execution_count": 6,
   "id": "96752b79",
   "metadata": {},
   "outputs": [],
   "source": [
    "car1.windows=5\n",
    "car1.doors=4"
   ]
  },
  {
   "cell_type": "code",
   "execution_count": 7,
   "id": "9e66d807",
   "metadata": {},
   "outputs": [
    {
     "name": "stdout",
     "output_type": "stream",
     "text": [
      "5\n"
     ]
    }
   ],
   "source": [
    "print(car1.windows)"
   ]
  },
  {
   "cell_type": "code",
   "execution_count": 8,
   "id": "f3e2c153",
   "metadata": {},
   "outputs": [
    {
     "name": "stdout",
     "output_type": "stream",
     "text": [
      "4\n"
     ]
    }
   ],
   "source": [
    "print(car1.doors)"
   ]
  },
  {
   "cell_type": "code",
   "execution_count": 9,
   "id": "932b5e71",
   "metadata": {},
   "outputs": [],
   "source": [
    "car2=Car()"
   ]
  },
  {
   "cell_type": "code",
   "execution_count": 10,
   "id": "198a6adc",
   "metadata": {},
   "outputs": [],
   "source": [
    " car2.engintype='petrol'"
   ]
  },
  {
   "cell_type": "code",
   "execution_count": 11,
   "id": "b1222252",
   "metadata": {},
   "outputs": [
    {
     "name": "stdout",
     "output_type": "stream",
     "text": [
      "petrol\n"
     ]
    }
   ],
   "source": [
    "print(car2.engintype)"
   ]
  },
  {
   "cell_type": "code",
   "execution_count": null,
   "id": "fa8e3b1c",
   "metadata": {},
   "outputs": [],
   "source": [
    "# if  ia m not fix the number of attributes , any number of attribute can create. This is a bad approach "
   ]
  },
  {
   "cell_type": "code",
   "execution_count": 29,
   "id": "49a2da8f",
   "metadata": {},
   "outputs": [],
   "source": [
    "# constructors are get used in order to initialize how many number of properties are getting used inside that particular class\n",
    "class Car:\n",
    "    def __init__(self,window,door,engintype): # self basically directing toa particular object\n",
    "        self.windows=window # attribute\n",
    "        self.doors=door # attribute\n",
    "        self.engintype=engintype # attribute\n",
    "    def self_driving(self):\n",
    "        return \"This is a {} car\".format(self.engintype )\n",
    "    # if i give self over here i will bw able to access  those attributes  that initialized in the above  initialization constructor "
   ]
  },
  {
   "cell_type": "code",
   "execution_count": 21,
   "id": "cafd0d3c",
   "metadata": {},
   "outputs": [
    {
     "ename": "TypeError",
     "evalue": "__init__() missing 3 required positional arguments: 'window', 'door', and 'engintype'",
     "output_type": "error",
     "traceback": [
      "\u001b[1;31m---------------------------------------------------------------------------\u001b[0m",
      "\u001b[1;31mTypeError\u001b[0m                                 Traceback (most recent call last)",
      "\u001b[1;32m~\\AppData\\Local\\Temp\\ipykernel_16776\\2730253819.py\u001b[0m in \u001b[0;36m<module>\u001b[1;34m\u001b[0m\n\u001b[1;32m----> 1\u001b[1;33m \u001b[0mcar1\u001b[0m\u001b[1;33m=\u001b[0m\u001b[0mCar\u001b[0m\u001b[1;33m(\u001b[0m\u001b[1;33m)\u001b[0m\u001b[1;33m\u001b[0m\u001b[1;33m\u001b[0m\u001b[0m\n\u001b[0m",
      "\u001b[1;31mTypeError\u001b[0m: __init__() missing 3 required positional arguments: 'window', 'door', and 'engintype'"
     ]
    }
   ],
   "source": [
    "car1=Car()"
   ]
  },
  {
   "cell_type": "code",
   "execution_count": 30,
   "id": "ea1dab30",
   "metadata": {},
   "outputs": [],
   "source": [
    "car1=Car(6,4,'petrol') # self take the reference of this particular object\n",
    "# for this object windows attribute will set to this value"
   ]
  },
  {
   "cell_type": "code",
   "execution_count": 16,
   "id": "c568165e",
   "metadata": {},
   "outputs": [],
   "source": [
    "car2=Car(6,4,'diesel')"
   ]
  },
  {
   "cell_type": "code",
   "execution_count": 24,
   "id": "43967338",
   "metadata": {},
   "outputs": [
    {
     "name": "stdout",
     "output_type": "stream",
     "text": [
      "6\n"
     ]
    }
   ],
   "source": [
    "print(car1.windows)"
   ]
  },
  {
   "cell_type": "code",
   "execution_count": 25,
   "id": "8c63f864",
   "metadata": {},
   "outputs": [
    {
     "name": "stdout",
     "output_type": "stream",
     "text": [
      "diesel\n"
     ]
    }
   ],
   "source": [
    "print(car2.engintype)"
   ]
  },
  {
   "cell_type": "code",
   "execution_count": 31,
   "id": "483f3f13",
   "metadata": {},
   "outputs": [
    {
     "data": {
      "text/plain": [
       "'This is a petrol car'"
      ]
     },
     "execution_count": 31,
     "metadata": {},
     "output_type": "execute_result"
    }
   ],
   "source": [
    "car1.self_driving()"
   ]
  },
  {
   "cell_type": "code",
   "execution_count": null,
   "id": "f34d70d0",
   "metadata": {},
   "outputs": [],
   "source": []
  },
  {
   "cell_type": "code",
   "execution_count": null,
   "id": "dd76770e",
   "metadata": {},
   "outputs": [],
   "source": []
  },
  {
   "cell_type": "code",
   "execution_count": null,
   "id": "86ff3498",
   "metadata": {},
   "outputs": [],
   "source": []
  },
  {
   "cell_type": "code",
   "execution_count": null,
   "id": "21d71fb9",
   "metadata": {},
   "outputs": [],
   "source": []
  },
  {
   "cell_type": "code",
   "execution_count": null,
   "id": "d6160fc8",
   "metadata": {},
   "outputs": [],
   "source": []
  },
  {
   "cell_type": "code",
   "execution_count": null,
   "id": "fc655640",
   "metadata": {},
   "outputs": [],
   "source": []
  },
  {
   "cell_type": "code",
   "execution_count": null,
   "id": "9787ae52",
   "metadata": {},
   "outputs": [],
   "source": []
  },
  {
   "cell_type": "code",
   "execution_count": null,
   "id": "604c4c2d",
   "metadata": {},
   "outputs": [],
   "source": []
  },
  {
   "cell_type": "code",
   "execution_count": null,
   "id": "dcffce14",
   "metadata": {},
   "outputs": [],
   "source": []
  }
 ],
 "metadata": {
  "kernelspec": {
   "display_name": "Python 3 (ipykernel)",
   "language": "python",
   "name": "python3"
  },
  "language_info": {
   "codemirror_mode": {
    "name": "ipython",
    "version": 3
   },
   "file_extension": ".py",
   "mimetype": "text/x-python",
   "name": "python",
   "nbconvert_exporter": "python",
   "pygments_lexer": "ipython3",
   "version": "3.9.13"
  }
 },
 "nbformat": 4,
 "nbformat_minor": 5
}
