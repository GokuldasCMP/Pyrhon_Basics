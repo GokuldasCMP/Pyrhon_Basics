{
 "cells": [
  {
   "cell_type": "markdown",
   "id": "e199a6b3",
   "metadata": {},
   "source": [
    "### Python Iterables vs Iterators\n"
   ]
  },
  {
   "cell_type": "code",
   "execution_count": 2,
   "id": "5b409ca1",
   "metadata": {},
   "outputs": [
    {
     "name": "stdout",
     "output_type": "stream",
     "text": [
      "1\n",
      "2\n",
      "3\n",
      "4\n",
      "4\n",
      "5\n",
      "6\n",
      "7\n"
     ]
    }
   ],
   "source": [
    "# list is iterable\n",
    "lst=[1,2,3,4,5,6,7] # as you initialize the list all values are saved in the memory location\n",
    "for i in lst:\n",
    "    print(i)"
   ]
  },
  {
   "cell_type": "code",
   "execution_count": null,
   "id": "ae3dfb9a",
   "metadata": {},
   "outputs": [],
   "source": [
    " # there is an inbuilt function called iter(). It will actually convert  a list into an iterator "
   ]
  },
  {
   "cell_type": "code",
   "execution_count": 18,
   "id": "f5629ef4",
   "metadata": {},
   "outputs": [],
   "source": [
    "l=iter(lst)"
   ]
  },
  {
   "cell_type": "markdown",
   "id": "195b863c",
   "metadata": {},
   "source": [
    "### properties of iterator\n",
    "- it is not initialize in the memory location\n",
    "- when we call the next() function then only that particular value initialize\n",
    "- So here we cannot see all the elements at once\n",
    "- after the last elemennt we get the 'StopIteration' error"
   ]
  },
  {
   "cell_type": "code",
   "execution_count": 5,
   "id": "00b6e6fd",
   "metadata": {},
   "outputs": [
    {
     "data": {
      "text/plain": [
       "1"
      ]
     },
     "execution_count": 5,
     "metadata": {},
     "output_type": "execute_result"
    }
   ],
   "source": [
    "next(l)"
   ]
  },
  {
   "cell_type": "code",
   "execution_count": 6,
   "id": "f390bd88",
   "metadata": {},
   "outputs": [
    {
     "data": {
      "text/plain": [
       "2"
      ]
     },
     "execution_count": 6,
     "metadata": {},
     "output_type": "execute_result"
    }
   ],
   "source": [
    "next(l)"
   ]
  },
  {
   "cell_type": "code",
   "execution_count": 13,
   "id": "7aa1f310",
   "metadata": {},
   "outputs": [
    {
     "ename": "StopIteration",
     "evalue": "",
     "output_type": "error",
     "traceback": [
      "\u001b[1;31m---------------------------------------------------------------------------\u001b[0m",
      "\u001b[1;31mStopIteration\u001b[0m                             Traceback (most recent call last)",
      "\u001b[1;32m~\\AppData\\Local\\Temp\\ipykernel_5140\\2016234150.py\u001b[0m in \u001b[0;36m<module>\u001b[1;34m\u001b[0m\n\u001b[1;32m----> 1\u001b[1;33m \u001b[0mnext\u001b[0m\u001b[1;33m(\u001b[0m\u001b[0ml\u001b[0m\u001b[1;33m)\u001b[0m\u001b[1;33m\u001b[0m\u001b[1;33m\u001b[0m\u001b[0m\n\u001b[0m",
      "\u001b[1;31mStopIteration\u001b[0m: "
     ]
    }
   ],
   "source": [
    "next(l)"
   ]
  },
  {
   "cell_type": "code",
   "execution_count": 14,
   "id": "88947852",
   "metadata": {},
   "outputs": [],
   "source": [
    "# imagine you have huge list of values , if there are irrelevent values ,why do we strore it all in the memory?\n",
    "# The above is one way to retrieve"
   ]
  },
  {
   "cell_type": "code",
   "execution_count": 15,
   "id": "e8d8f2ca",
   "metadata": {},
   "outputs": [],
   "source": [
    "#  You can use the for loop also"
   ]
  },
  {
   "cell_type": "code",
   "execution_count": 19,
   "id": "be1a3c43",
   "metadata": {},
   "outputs": [
    {
     "name": "stdout",
     "output_type": "stream",
     "text": [
      "1\n",
      "2\n",
      "3\n",
      "4\n",
      "4\n",
      "5\n",
      "6\n",
      "7\n"
     ]
    }
   ],
   "source": [
    "for  i in l:\n",
    "    print(i)"
   ]
  },
  {
   "cell_type": "code",
   "execution_count": null,
   "id": "44400d5d",
   "metadata": {},
   "outputs": [],
   "source": [
    "# in for loop why it doesn't give the  error?\n",
    "# in for loop stopiteration exception handling is already done  "
   ]
  },
  {
   "cell_type": "code",
   "execution_count": null,
   "id": "c4cbcbe2",
   "metadata": {},
   "outputs": [],
   "source": []
  },
  {
   "cell_type": "code",
   "execution_count": null,
   "id": "3086b0f0",
   "metadata": {},
   "outputs": [],
   "source": []
  },
  {
   "cell_type": "code",
   "execution_count": null,
   "id": "085aa580",
   "metadata": {},
   "outputs": [],
   "source": []
  },
  {
   "cell_type": "code",
   "execution_count": null,
   "id": "b004ac16",
   "metadata": {},
   "outputs": [],
   "source": []
  },
  {
   "cell_type": "code",
   "execution_count": null,
   "id": "6b412b2e",
   "metadata": {},
   "outputs": [],
   "source": []
  },
  {
   "cell_type": "code",
   "execution_count": null,
   "id": "fc79b8aa",
   "metadata": {},
   "outputs": [],
   "source": []
  },
  {
   "cell_type": "code",
   "execution_count": null,
   "id": "d753e9b7",
   "metadata": {},
   "outputs": [],
   "source": []
  },
  {
   "cell_type": "code",
   "execution_count": null,
   "id": "03d55f44",
   "metadata": {},
   "outputs": [],
   "source": []
  },
  {
   "cell_type": "code",
   "execution_count": null,
   "id": "a5aa5bda",
   "metadata": {},
   "outputs": [],
   "source": []
  },
  {
   "cell_type": "code",
   "execution_count": null,
   "id": "14d2ad13",
   "metadata": {},
   "outputs": [],
   "source": []
  },
  {
   "cell_type": "code",
   "execution_count": null,
   "id": "b7905894",
   "metadata": {},
   "outputs": [],
   "source": []
  }
 ],
 "metadata": {
  "kernelspec": {
   "display_name": "Python 3 (ipykernel)",
   "language": "python",
   "name": "python3"
  },
  "language_info": {
   "codemirror_mode": {
    "name": "ipython",
    "version": 3
   },
   "file_extension": ".py",
   "mimetype": "text/x-python",
   "name": "python",
   "nbconvert_exporter": "python",
   "pygments_lexer": "ipython3",
   "version": "3.9.13"
  }
 },
 "nbformat": 4,
 "nbformat_minor": 5
}
