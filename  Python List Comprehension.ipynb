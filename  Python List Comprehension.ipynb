{
 "cells": [
  {
   "cell_type": "markdown",
   "id": "da60a9ce",
   "metadata": {},
   "source": [
    "### List Comprehension\n",
    "List comprehensions provide a concise way to  create lists. It consist of brackets containing an expression followed by a for clause, then zero or more for or if clauses. The expressions can be anything, meaning you can put in all kinds of objects in lists."
   ]
  },
  {
   "cell_type": "code",
   "execution_count": 1,
   "id": "84f3b9d5",
   "metadata": {},
   "outputs": [],
   "source": [
    "lst1=[]\n",
    "def list_square(lst):\n",
    "    for i in lst:\n",
    "        lst1.append(i*i)\n",
    "    return lst1   "
   ]
  },
  {
   "cell_type": "code",
   "execution_count": 3,
   "id": "de5dc68e",
   "metadata": {},
   "outputs": [
    {
     "data": {
      "text/plain": [
       "[4, 9, 16]"
      ]
     },
     "execution_count": 3,
     "metadata": {},
     "output_type": "execute_result"
    }
   ],
   "source": [
    "list_square([2,3,4])"
   ]
  },
  {
   "cell_type": "code",
   "execution_count": 5,
   "id": "705c64d3",
   "metadata": {},
   "outputs": [],
   "source": [
    "lst=[2,3,4]\n",
    "list1=[i*i for i in lst ]"
   ]
  },
  {
   "cell_type": "code",
   "execution_count": 6,
   "id": "0f1dacd2",
   "metadata": {},
   "outputs": [
    {
     "data": {
      "text/plain": [
       "[4, 9, 16]"
      ]
     },
     "execution_count": 6,
     "metadata": {},
     "output_type": "execute_result"
    }
   ],
   "source": [
    "list1"
   ]
  },
  {
   "cell_type": "code",
   "execution_count": 9,
   "id": "d3db1105",
   "metadata": {},
   "outputs": [],
   "source": [
    "lst=[2,3,4,5,6,7,8,9]\n",
    "list1=[i*i for i in lst if i%2==0 ]"
   ]
  },
  {
   "cell_type": "code",
   "execution_count": 10,
   "id": "94fc8fe1",
   "metadata": {},
   "outputs": [
    {
     "data": {
      "text/plain": [
       "[4, 16, 36, 64]"
      ]
     },
     "execution_count": 10,
     "metadata": {},
     "output_type": "execute_result"
    }
   ],
   "source": [
    "list1"
   ]
  },
  {
   "cell_type": "code",
   "execution_count": null,
   "id": "c1e60d98",
   "metadata": {},
   "outputs": [],
   "source": []
  },
  {
   "cell_type": "code",
   "execution_count": null,
   "id": "8978dbd4",
   "metadata": {},
   "outputs": [],
   "source": []
  },
  {
   "cell_type": "code",
   "execution_count": null,
   "id": "769c8711",
   "metadata": {},
   "outputs": [],
   "source": []
  },
  {
   "cell_type": "code",
   "execution_count": null,
   "id": "2ec87132",
   "metadata": {},
   "outputs": [],
   "source": []
  }
 ],
 "metadata": {
  "kernelspec": {
   "display_name": "Python 3 (ipykernel)",
   "language": "python",
   "name": "python3"
  },
  "language_info": {
   "codemirror_mode": {
    "name": "ipython",
    "version": 3
   },
   "file_extension": ".py",
   "mimetype": "text/x-python",
   "name": "python",
   "nbconvert_exporter": "python",
   "pygments_lexer": "ipython3",
   "version": "3.9.13"
  }
 },
 "nbformat": 4,
 "nbformat_minor": 5
}
