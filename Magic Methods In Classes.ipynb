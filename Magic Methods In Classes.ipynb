{
 "cells": [
  {
   "cell_type": "markdown",
   "id": "fe32c3d6",
   "metadata": {},
   "source": [
    "### Magic Methods In Classes\n",
    "In Python, magic methods (also known as dunder methods) are special methods that start and end with double underscores (__). These methods allow you to define behavior for built-in operations or functionalities in Python classes. They are called \"magic\" because they enable you to customize the behavior of objects and classes in ways that are not possible with regular methods."
   ]
  },
  {
   "cell_type": "code",
   "execution_count": 14,
   "id": "8a17ef8a",
   "metadata": {},
   "outputs": [],
   "source": [
    "# all the class variables are public\n",
    "# car Bluprint\n",
    "class Car():\n",
    "    def __new__(self,windows,doors,engintype):\n",
    "        print('the object has started getting initialized')\n",
    "    def __init__(self,windows,doors,engintype):\n",
    "        self.windows=windows\n",
    "        self.doors=doors\n",
    "        self.engintype=engintype\n",
    "    def __str__(self):\n",
    "        return 'The object has been initialized'\n",
    "    def __sizeof__(self):\n",
    "        return 'This displays the size of the object'\n",
    "    \n",
    "    def drive(self):\n",
    "        print(\" the person drive the car\")"
   ]
  },
  {
   "cell_type": "code",
   "execution_count": 15,
   "id": "c35db657",
   "metadata": {},
   "outputs": [
    {
     "name": "stdout",
     "output_type": "stream",
     "text": [
      "the object has started getting initialized\n"
     ]
    }
   ],
   "source": [
    "c=Car(5,5,'petrol')"
   ]
  },
  {
   "cell_type": "code",
   "execution_count": null,
   "id": "1899e7c8",
   "metadata": {},
   "outputs": [],
   "source": []
  },
  {
   "cell_type": "code",
   "execution_count": 3,
   "id": "3339e822",
   "metadata": {},
   "outputs": [
    {
     "data": {
      "text/plain": [
       "['__class__',\n",
       " '__delattr__',\n",
       " '__dict__',\n",
       " '__dir__',\n",
       " '__doc__',\n",
       " '__eq__',\n",
       " '__format__',\n",
       " '__ge__',\n",
       " '__getattribute__',\n",
       " '__gt__',\n",
       " '__hash__',\n",
       " '__init__',\n",
       " '__init_subclass__',\n",
       " '__le__',\n",
       " '__lt__',\n",
       " '__module__',\n",
       " '__ne__',\n",
       " '__new__',\n",
       " '__reduce__',\n",
       " '__reduce_ex__',\n",
       " '__repr__',\n",
       " '__setattr__',\n",
       " '__sizeof__',\n",
       " '__str__',\n",
       " '__subclasshook__',\n",
       " '__weakref__',\n",
       " 'doors',\n",
       " 'drive',\n",
       " 'engintype',\n",
       " 'windows']"
      ]
     },
     "execution_count": 3,
     "metadata": {},
     "output_type": "execute_result"
    }
   ],
   "source": [
    "dir(c)"
   ]
  },
  {
   "cell_type": "code",
   "execution_count": 8,
   "id": "a2f803da",
   "metadata": {},
   "outputs": [
    {
     "data": {
      "text/plain": [
       "<__main__.Car at 0x205249007f0>"
      ]
     },
     "execution_count": 8,
     "metadata": {},
     "output_type": "execute_result"
    }
   ],
   "source": [
    "c"
   ]
  },
  {
   "cell_type": "code",
   "execution_count": 9,
   "id": "e824e3c3",
   "metadata": {},
   "outputs": [
    {
     "name": "stdout",
     "output_type": "stream",
     "text": [
      "The object has been initialized\n"
     ]
    }
   ],
   "source": [
    "print(c)"
   ]
  },
  {
   "cell_type": "code",
   "execution_count": 13,
   "id": "82196c24",
   "metadata": {},
   "outputs": [
    {
     "data": {
      "text/plain": [
       "'This displays the size of the object'"
      ]
     },
     "execution_count": 13,
     "metadata": {},
     "output_type": "execute_result"
    }
   ],
   "source": [
    "c.__sizeof__() # the entire object consist of 32 bytes"
   ]
  },
  {
   "cell_type": "code",
   "execution_count": null,
   "id": "846bf6e7",
   "metadata": {},
   "outputs": [],
   "source": []
  },
  {
   "cell_type": "code",
   "execution_count": null,
   "id": "5c6fd30e",
   "metadata": {},
   "outputs": [],
   "source": []
  },
  {
   "cell_type": "code",
   "execution_count": null,
   "id": "c4c76e22",
   "metadata": {},
   "outputs": [],
   "source": []
  }
 ],
 "metadata": {
  "kernelspec": {
   "display_name": "Python 3 (ipykernel)",
   "language": "python",
   "name": "python3"
  },
  "language_info": {
   "codemirror_mode": {
    "name": "ipython",
    "version": 3
   },
   "file_extension": ".py",
   "mimetype": "text/x-python",
   "name": "python",
   "nbconvert_exporter": "python",
   "pygments_lexer": "ipython3",
   "version": "3.9.13"
  }
 },
 "nbformat": 4,
 "nbformat_minor": 5
}
