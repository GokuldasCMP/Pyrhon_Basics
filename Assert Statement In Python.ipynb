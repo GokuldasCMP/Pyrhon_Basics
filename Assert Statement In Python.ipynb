{
 "cells": [
  {
   "cell_type": "markdown",
   "id": "43553335",
   "metadata": {},
   "source": [
    "###  Python Assert\n",
    "\n",
    "Python provides the assert statement to check if a given logical expression is true or false. Program execution proceeds only if the expression is true and raises the AssertionError when it is false. The following code shows the usage of the  assert statement."
   ]
  },
  {
   "cell_type": "code",
   "execution_count": 1,
   "id": "08da4b82",
   "metadata": {},
   "outputs": [
    {
     "data": {
      "text/plain": [
       "False"
      ]
     },
     "execution_count": 1,
     "metadata": {},
     "output_type": "execute_result"
    }
   ],
   "source": [
    "10>10"
   ]
  },
  {
   "cell_type": "code",
   "execution_count": 3,
   "id": "1a758d03",
   "metadata": {},
   "outputs": [
    {
     "data": {
      "text/plain": [
       "True"
      ]
     },
     "execution_count": 3,
     "metadata": {},
     "output_type": "execute_result"
    }
   ],
   "source": [
    "10>=10"
   ]
  },
  {
   "cell_type": "code",
   "execution_count": 5,
   "id": "bf5c7a14",
   "metadata": {},
   "outputs": [
    {
     "ename": "AssertionError",
     "evalue": "",
     "output_type": "error",
     "traceback": [
      "\u001b[1;31m---------------------------------------------------------------------------\u001b[0m",
      "\u001b[1;31mAssertionError\u001b[0m                            Traceback (most recent call last)",
      "\u001b[1;32m~\\AppData\\Local\\Temp\\ipykernel_12044\\2618314585.py\u001b[0m in \u001b[0;36m<module>\u001b[1;34m\u001b[0m\n\u001b[0;32m      1\u001b[0m \u001b[0mnum\u001b[0m\u001b[1;33m=\u001b[0m\u001b[1;36m8\u001b[0m\u001b[1;33m\u001b[0m\u001b[1;33m\u001b[0m\u001b[0m\n\u001b[1;32m----> 2\u001b[1;33m \u001b[1;32massert\u001b[0m \u001b[0mnum\u001b[0m\u001b[1;33m>=\u001b[0m\u001b[1;36m9\u001b[0m\u001b[1;33m\u001b[0m\u001b[1;33m\u001b[0m\u001b[0m\n\u001b[0m",
      "\u001b[1;31mAssertionError\u001b[0m: "
     ]
    }
   ],
   "source": [
    "num=8\n",
    "assert num>=9"
   ]
  },
  {
   "cell_type": "code",
   "execution_count": 6,
   "id": "40a8976b",
   "metadata": {},
   "outputs": [],
   "source": [
    "num=8\n",
    "assert num>=5"
   ]
  },
  {
   "cell_type": "code",
   "execution_count": 7,
   "id": "e52d4a80",
   "metadata": {},
   "outputs": [
    {
     "name": "stdout",
     "output_type": "stream",
     "text": [
      "Enter the num: 3\n",
      "Please enter an even number\n"
     ]
    }
   ],
   "source": [
    "try:\n",
    "    num=int(input('Enter the num: '))\n",
    "    assert num%2==0\n",
    "    print('The number is even')\n",
    "except AssertionError:\n",
    "    print('Please enter an even number')"
   ]
  },
  {
   "cell_type": "code",
   "execution_count": 8,
   "id": "11c11c8a",
   "metadata": {},
   "outputs": [
    {
     "name": "stdout",
     "output_type": "stream",
     "text": [
      "Enter the num: 4\n",
      "The number is even\n"
     ]
    }
   ],
   "source": [
    "try:\n",
    "    num=int(input('Enter the num: '))\n",
    "    assert num%2==0\n",
    "    print('The number is even')\n",
    "except AssertionError:\n",
    "    print('Please enter an even number')"
   ]
  },
  {
   "cell_type": "code",
   "execution_count": null,
   "id": "2fc05e7f",
   "metadata": {},
   "outputs": [],
   "source": []
  },
  {
   "cell_type": "code",
   "execution_count": null,
   "id": "f6ea1817",
   "metadata": {},
   "outputs": [],
   "source": []
  },
  {
   "cell_type": "code",
   "execution_count": null,
   "id": "359fd0e1",
   "metadata": {},
   "outputs": [],
   "source": []
  },
  {
   "cell_type": "code",
   "execution_count": null,
   "id": "73911ccd",
   "metadata": {},
   "outputs": [],
   "source": []
  },
  {
   "cell_type": "code",
   "execution_count": null,
   "id": "250fcfb0",
   "metadata": {},
   "outputs": [],
   "source": []
  }
 ],
 "metadata": {
  "kernelspec": {
   "display_name": "Python 3 (ipykernel)",
   "language": "python",
   "name": "python3"
  },
  "language_info": {
   "codemirror_mode": {
    "name": "ipython",
    "version": 3
   },
   "file_extension": ".py",
   "mimetype": "text/x-python",
   "name": "python",
   "nbconvert_exporter": "python",
   "pygments_lexer": "ipython3",
   "version": "3.9.13"
  }
 },
 "nbformat": 4,
 "nbformat_minor": 5
}
