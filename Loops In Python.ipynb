{
 "cells": [
  {
   "cell_type": "code",
   "execution_count": 1,
   "id": "8acfdea0",
   "metadata": {},
   "outputs": [],
   "source": [
    "# Smarter way of doing repetitive task  is Loop\n",
    "# Conditional statement is used to run a piece of code after checking a condition"
   ]
  },
  {
   "cell_type": "code",
   "execution_count": 3,
   "id": "bd16307a",
   "metadata": {},
   "outputs": [
    {
     "name": "stdout",
     "output_type": "stream",
     "text": [
      " a is not equal to b\n"
     ]
    }
   ],
   "source": [
    "a=12\n",
    "b=120\n",
    "if b==a:\n",
    "    print(\"a is  equal to b\")\n",
    "else:\n",
    "    print(\" a is not equal to b\")"
   ]
  },
  {
   "cell_type": "code",
   "execution_count": null,
   "id": "3220da4e",
   "metadata": {},
   "outputs": [],
   "source": [
    "# A llop is a sequence of instructions is continually  repeated until a certain condition is reached"
   ]
  },
  {
   "cell_type": "code",
   "execution_count": 5,
   "id": "109f1ba9",
   "metadata": {},
   "outputs": [
    {
     "name": "stdout",
     "output_type": "stream",
     "text": [
      "1\n",
      "2\n",
      "3\n",
      "4\n",
      "5\n"
     ]
    }
   ],
   "source": [
    "# while loop\n",
    "i=1   #initiate a variable i with 1\n",
    "# running a while loop\n",
    "while i <6:\n",
    "    print(i)\n",
    "    i+=1"
   ]
  },
  {
   "cell_type": "code",
   "execution_count": 6,
   "id": "f448ec44",
   "metadata": {},
   "outputs": [
    {
     "name": "stdout",
     "output_type": "stream",
     "text": [
      "1\n",
      "2\n",
      "3\n"
     ]
    }
   ],
   "source": [
    "i=1\n",
    "while i<6:\n",
    "    print(i)\n",
    "    if(i==3):\n",
    "       break\n",
    "    i+=1    "
   ]
  },
  {
   "cell_type": "code",
   "execution_count": 7,
   "id": "c4b96b55",
   "metadata": {},
   "outputs": [
    {
     "name": "stdout",
     "output_type": "stream",
     "text": [
      "red\n",
      "blue\n",
      "yellow\n"
     ]
    }
   ],
   "source": [
    "# for loop in Python\n",
    "color=[\"red\",'blue','yellow']\n",
    "for x in color:\n",
    "    print(x)"
   ]
  },
  {
   "cell_type": "code",
   "execution_count": 9,
   "id": "5895e0ac",
   "metadata": {},
   "outputs": [
    {
     "name": "stdout",
     "output_type": "stream",
     "text": [
      "3\n",
      "4\n",
      "6\n"
     ]
    }
   ],
   "source": [
    "color=[\"red\",'blue','yellow']\n",
    "for x in color:\n",
    "    print(len(x))"
   ]
  },
  {
   "cell_type": "code",
   "execution_count": 10,
   "id": "40754d0e",
   "metadata": {},
   "outputs": [
    {
     "name": "stdout",
     "output_type": "stream",
     "text": [
      "2\n",
      "3\n",
      "4\n",
      "5\n"
     ]
    }
   ],
   "source": [
    "# Alternate way of writing for loop\n",
    "for x in range(2,6):\n",
    "    print(x)"
   ]
  },
  {
   "cell_type": "code",
   "execution_count": 13,
   "id": "f00b3b45",
   "metadata": {},
   "outputs": [],
   "source": [
    "# A simple use case of Loop\n",
    "student_marks=[17,18,13,6,8,19,2] # marks obtained by students by class out of 20\n",
    "percentage_marks=[] # creating an empty list\n",
    "for i in student_marks:\n",
    "    percentage_marks.append((i/20)*100)"
   ]
  },
  {
   "cell_type": "code",
   "execution_count": 14,
   "id": "6828c650",
   "metadata": {},
   "outputs": [
    {
     "data": {
      "text/plain": [
       "[85.0, 90.0, 65.0, 30.0, 40.0, 95.0, 10.0]"
      ]
     },
     "execution_count": 14,
     "metadata": {},
     "output_type": "execute_result"
    }
   ],
   "source": [
    "# viewing percentage marks\n",
    "percentage_marks"
   ]
  },
  {
   "cell_type": "code",
   "execution_count": null,
   "id": "17c065a9",
   "metadata": {},
   "outputs": [],
   "source": []
  },
  {
   "cell_type": "code",
   "execution_count": null,
   "id": "f1404a9c",
   "metadata": {},
   "outputs": [],
   "source": []
  },
  {
   "cell_type": "code",
   "execution_count": null,
   "id": "0894943f",
   "metadata": {},
   "outputs": [],
   "source": []
  },
  {
   "cell_type": "code",
   "execution_count": null,
   "id": "e9d3a92f",
   "metadata": {},
   "outputs": [],
   "source": []
  }
 ],
 "metadata": {
  "kernelspec": {
   "display_name": "Python 3 (ipykernel)",
   "language": "python",
   "name": "python3"
  },
  "language_info": {
   "codemirror_mode": {
    "name": "ipython",
    "version": 3
   },
   "file_extension": ".py",
   "mimetype": "text/x-python",
   "name": "python",
   "nbconvert_exporter": "python",
   "pygments_lexer": "ipython3",
   "version": "3.9.13"
  }
 },
 "nbformat": 4,
 "nbformat_minor": 5
}
