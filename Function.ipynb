{
 "cells": [
  {
   "cell_type": "markdown",
   "id": "6b3306a2",
   "metadata": {},
   "source": [
    "### What is a Function?"
   ]
  },
  {
   "cell_type": "markdown",
   "id": "19db431c",
   "metadata": {},
   "source": [
    "A function consist a unit of code that is required regularly in the script. Programmes write this  piece of code inside a function and use that function wherever needed."
   ]
  },
  {
   "cell_type": "markdown",
   "id": "460f5e55",
   "metadata": {},
   "source": [
    "### Types of Functions"
   ]
  },
  {
   "cell_type": "markdown",
   "id": "23985b76",
   "metadata": {},
   "source": [
    "- System defined \n",
    "- User defined"
   ]
  },
  {
   "cell_type": "code",
   "execution_count": 4,
   "id": "65de9413",
   "metadata": {},
   "outputs": [
    {
     "name": "stdout",
     "output_type": "stream",
     "text": [
      "4.0\n",
      "45.0\n"
     ]
    }
   ],
   "source": [
    "# Example of System defined\n",
    "import numpy as np\n",
    "print(np.mean([2,3,4,5,6])) # using mean function\n",
    "print(np.median([23,45,46]))"
   ]
  },
  {
   "cell_type": "code",
   "execution_count": 5,
   "id": "517f9663",
   "metadata": {},
   "outputs": [],
   "source": [
    "# Example of User defined\n",
    "# defining a function\n",
    "def sampleFun(x):\n",
    "    return(x+3)"
   ]
  },
  {
   "cell_type": "code",
   "execution_count": 6,
   "id": "5867043e",
   "metadata": {},
   "outputs": [
    {
     "data": {
      "text/plain": [
       "23"
      ]
     },
     "execution_count": 6,
     "metadata": {},
     "output_type": "execute_result"
    }
   ],
   "source": [
    "# callling the above function\n",
    "sampleFun(20)"
   ]
  },
  {
   "cell_type": "code",
   "execution_count": 7,
   "id": "892cbfee",
   "metadata": {},
   "outputs": [],
   "source": [
    "def divide(x,y):\n",
    "    return(x/y)"
   ]
  },
  {
   "cell_type": "code",
   "execution_count": 8,
   "id": "ecb0a96e",
   "metadata": {},
   "outputs": [
    {
     "data": {
      "text/plain": [
       "5.0"
      ]
     },
     "execution_count": 8,
     "metadata": {},
     "output_type": "execute_result"
    }
   ],
   "source": [
    "divide(25,5)"
   ]
  },
  {
   "cell_type": "code",
   "execution_count": 9,
   "id": "b8fd1102",
   "metadata": {},
   "outputs": [
    {
     "ename": "TypeError",
     "evalue": "divide() missing 1 required positional argument: 'y'",
     "output_type": "error",
     "traceback": [
      "\u001b[1;31m---------------------------------------------------------------------------\u001b[0m",
      "\u001b[1;31mTypeError\u001b[0m                                 Traceback (most recent call last)",
      "\u001b[1;32m~\\AppData\\Local\\Temp\\ipykernel_12064\\3115715628.py\u001b[0m in \u001b[0;36m<module>\u001b[1;34m\u001b[0m\n\u001b[1;32m----> 1\u001b[1;33m \u001b[0mdivide\u001b[0m\u001b[1;33m(\u001b[0m\u001b[1;36m25\u001b[0m\u001b[1;33m)\u001b[0m\u001b[1;33m\u001b[0m\u001b[1;33m\u001b[0m\u001b[0m\n\u001b[0m",
      "\u001b[1;31mTypeError\u001b[0m: divide() missing 1 required positional argument: 'y'"
     ]
    }
   ],
   "source": [
    "divide(25)"
   ]
  },
  {
   "cell_type": "code",
   "execution_count": 10,
   "id": "37150aeb",
   "metadata": {},
   "outputs": [],
   "source": [
    "def divide(x,y=5):\n",
    "    return(x/y)"
   ]
  },
  {
   "cell_type": "code",
   "execution_count": 11,
   "id": "e3d7d441",
   "metadata": {},
   "outputs": [
    {
     "data": {
      "text/plain": [
       "5.0"
      ]
     },
     "execution_count": 11,
     "metadata": {},
     "output_type": "execute_result"
    }
   ],
   "source": [
    "divide(25)"
   ]
  },
  {
   "cell_type": "code",
   "execution_count": 13,
   "id": "12adf6b6",
   "metadata": {},
   "outputs": [
    {
     "data": {
      "text/plain": [
       "2.0"
      ]
     },
     "execution_count": 13,
     "metadata": {},
     "output_type": "execute_result"
    }
   ],
   "source": [
    "divide(10)"
   ]
  },
  {
   "cell_type": "code",
   "execution_count": null,
   "id": "d267687b",
   "metadata": {},
   "outputs": [],
   "source": [
    "#  formal arguments: arguments which you are given while creating the function\n",
    "# actual arguments: arguments which you are given while calling the function"
   ]
  },
  {
   "cell_type": "code",
   "execution_count": null,
   "id": "1609498f",
   "metadata": {},
   "outputs": [],
   "source": []
  },
  {
   "cell_type": "code",
   "execution_count": null,
   "id": "2052a9b7",
   "metadata": {},
   "outputs": [],
   "source": []
  },
  {
   "cell_type": "code",
   "execution_count": null,
   "id": "1db2b322",
   "metadata": {},
   "outputs": [],
   "source": []
  },
  {
   "cell_type": "code",
   "execution_count": null,
   "id": "e20ec13b",
   "metadata": {},
   "outputs": [],
   "source": []
  }
 ],
 "metadata": {
  "kernelspec": {
   "display_name": "Python 3 (ipykernel)",
   "language": "python",
   "name": "python3"
  },
  "language_info": {
   "codemirror_mode": {
    "name": "ipython",
    "version": 3
   },
   "file_extension": ".py",
   "mimetype": "text/x-python",
   "name": "python",
   "nbconvert_exporter": "python",
   "pygments_lexer": "ipython3",
   "version": "3.9.13"
  }
 },
 "nbformat": 4,
 "nbformat_minor": 5
}
