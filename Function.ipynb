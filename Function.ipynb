{
 "cells": [
  {
   "cell_type": "markdown",
   "id": "6b3306a2",
   "metadata": {},
   "source": [
    "### What is a Function?"
   ]
  },
  {
   "cell_type": "markdown",
   "id": "19db431c",
   "metadata": {},
   "source": [
    "A function consist a unit of code that is required regularly in the script. Programmes write this  piece of code inside a function and use that function wherever needed."
   ]
  },
  {
   "cell_type": "markdown",
   "id": "460f5e55",
   "metadata": {},
   "source": [
    "### Types of Functions"
   ]
  },
  {
   "cell_type": "markdown",
   "id": "23985b76",
   "metadata": {},
   "source": [
    "- System defined \n",
    "- User defined"
   ]
  },
  {
   "cell_type": "code",
   "execution_count": 4,
   "id": "65de9413",
   "metadata": {},
   "outputs": [
    {
     "name": "stdout",
     "output_type": "stream",
     "text": [
      "4.0\n",
      "45.0\n"
     ]
    }
   ],
   "source": [
    "# Example of System defined\n",
    "import numpy as np\n",
    "print(np.mean([2,3,4,5,6])) # using mean function\n",
    "print(np.median([23,45,46]))"
   ]
  },
  {
   "cell_type": "code",
   "execution_count": 5,
   "id": "517f9663",
   "metadata": {},
   "outputs": [],
   "source": [
    "# Example of User defined\n",
    "# defining a function\n",
    "def sampleFun(x):\n",
    "    return(x+3)"
   ]
  },
  {
   "cell_type": "code",
   "execution_count": 6,
   "id": "5867043e",
   "metadata": {},
   "outputs": [
    {
     "data": {
      "text/plain": [
       "23"
      ]
     },
     "execution_count": 6,
     "metadata": {},
     "output_type": "execute_result"
    }
   ],
   "source": [
    "# callling the above function\n",
    "sampleFun(20)"
   ]
  },
  {
   "cell_type": "code",
   "execution_count": 7,
   "id": "892cbfee",
   "metadata": {},
   "outputs": [],
   "source": [
    "def divide(x,y):\n",
    "    return(x/y)"
   ]
  },
  {
   "cell_type": "code",
   "execution_count": 8,
   "id": "ecb0a96e",
   "metadata": {},
   "outputs": [
    {
     "data": {
      "text/plain": [
       "5.0"
      ]
     },
     "execution_count": 8,
     "metadata": {},
     "output_type": "execute_result"
    }
   ],
   "source": [
    "divide(25,5)"
   ]
  },
  {
   "cell_type": "code",
   "execution_count": 9,
   "id": "b8fd1102",
   "metadata": {},
   "outputs": [
    {
     "ename": "TypeError",
     "evalue": "divide() missing 1 required positional argument: 'y'",
     "output_type": "error",
     "traceback": [
      "\u001b[1;31m---------------------------------------------------------------------------\u001b[0m",
      "\u001b[1;31mTypeError\u001b[0m                                 Traceback (most recent call last)",
      "\u001b[1;32m~\\AppData\\Local\\Temp\\ipykernel_12064\\3115715628.py\u001b[0m in \u001b[0;36m<module>\u001b[1;34m\u001b[0m\n\u001b[1;32m----> 1\u001b[1;33m \u001b[0mdivide\u001b[0m\u001b[1;33m(\u001b[0m\u001b[1;36m25\u001b[0m\u001b[1;33m)\u001b[0m\u001b[1;33m\u001b[0m\u001b[1;33m\u001b[0m\u001b[0m\n\u001b[0m",
      "\u001b[1;31mTypeError\u001b[0m: divide() missing 1 required positional argument: 'y'"
     ]
    }
   ],
   "source": [
    "divide(25)"
   ]
  },
  {
   "cell_type": "code",
   "execution_count": 10,
   "id": "37150aeb",
   "metadata": {},
   "outputs": [],
   "source": [
    "def divide(x,y=5):\n",
    "    return(x/y)"
   ]
  },
  {
   "cell_type": "code",
   "execution_count": 11,
   "id": "e3d7d441",
   "metadata": {},
   "outputs": [
    {
     "data": {
      "text/plain": [
       "5.0"
      ]
     },
     "execution_count": 11,
     "metadata": {},
     "output_type": "execute_result"
    }
   ],
   "source": [
    "divide(25)"
   ]
  },
  {
   "cell_type": "code",
   "execution_count": 13,
   "id": "12adf6b6",
   "metadata": {},
   "outputs": [
    {
     "data": {
      "text/plain": [
       "2.0"
      ]
     },
     "execution_count": 13,
     "metadata": {},
     "output_type": "execute_result"
    }
   ],
   "source": [
    "divide(10)"
   ]
  },
  {
   "cell_type": "code",
   "execution_count": null,
   "id": "d267687b",
   "metadata": {},
   "outputs": [],
   "source": [
    "#  formal arguments: arguments which you are given while creating the function\n",
    "# actual arguments: arguments which you are given while calling the function"
   ]
  },
  {
   "cell_type": "code",
   "execution_count": 1,
   "id": "1609498f",
   "metadata": {},
   "outputs": [
    {
     "name": "stdout",
     "output_type": "stream",
     "text": [
      "The number is Even\n"
     ]
    }
   ],
   "source": [
    "def even_odd(num):\n",
    "    if num%2==0:\n",
    "        print(\"The number is Even\")\n",
    "    else:\n",
    "        print(\"The number is Odd\")\n",
    "even_odd(8)    "
   ]
  },
  {
   "cell_type": "code",
   "execution_count": 17,
   "id": "1051805e",
   "metadata": {},
   "outputs": [],
   "source": [
    "#print vs return\n",
    "def hello_world():\n",
    "    return \"Hello Welcome\"\n",
    "    "
   ]
  },
  {
   "cell_type": "code",
   "execution_count": 18,
   "id": "ef715fbd",
   "metadata": {},
   "outputs": [
    {
     "data": {
      "text/plain": [
       "'Hello Welcome'"
      ]
     },
     "execution_count": 18,
     "metadata": {},
     "output_type": "execute_result"
    }
   ],
   "source": [
    "hello_world()"
   ]
  },
  {
   "cell_type": "code",
   "execution_count": 19,
   "id": "5647ea29",
   "metadata": {},
   "outputs": [],
   "source": [
    "val=hello_world()"
   ]
  },
  {
   "cell_type": "code",
   "execution_count": 20,
   "id": "a34b006d",
   "metadata": {},
   "outputs": [
    {
     "name": "stdout",
     "output_type": "stream",
     "text": [
      "Hello Welcome\n"
     ]
    }
   ],
   "source": [
    "print(val)"
   ]
  },
  {
   "cell_type": "code",
   "execution_count": 21,
   "id": "1a67eebb",
   "metadata": {},
   "outputs": [],
   "source": [
    "def add_num(num1,num2):\n",
    "    return num1+num2 "
   ]
  },
  {
   "cell_type": "code",
   "execution_count": 22,
   "id": "cc1c649c",
   "metadata": {},
   "outputs": [],
   "source": [
    "val=add_num(34,22)"
   ]
  },
  {
   "cell_type": "code",
   "execution_count": 23,
   "id": "973954d1",
   "metadata": {},
   "outputs": [
    {
     "data": {
      "text/plain": [
       "56"
      ]
     },
     "execution_count": 23,
     "metadata": {},
     "output_type": "execute_result"
    }
   ],
   "source": [
    "val"
   ]
  },
  {
   "cell_type": "code",
   "execution_count": 29,
   "id": "181285e7",
   "metadata": {},
   "outputs": [],
   "source": [
    "# in this the first one is positional argument and the second one is the keyword argument\n",
    "def hello(name,age):\n",
    "    print(\"my name is {} and age is {} \".format(name,age))"
   ]
  },
  {
   "cell_type": "code",
   "execution_count": 30,
   "id": "980d1f57",
   "metadata": {},
   "outputs": [
    {
     "ename": "TypeError",
     "evalue": "hello() missing 1 required positional argument: 'age'",
     "output_type": "error",
     "traceback": [
      "\u001b[1;31m---------------------------------------------------------------------------\u001b[0m",
      "\u001b[1;31mTypeError\u001b[0m                                 Traceback (most recent call last)",
      "\u001b[1;32m~\\AppData\\Local\\Temp\\ipykernel_15868\\3241791029.py\u001b[0m in \u001b[0;36m<module>\u001b[1;34m\u001b[0m\n\u001b[1;32m----> 1\u001b[1;33m \u001b[0mhello\u001b[0m\u001b[1;33m(\u001b[0m\u001b[1;34m\"Gokul\"\u001b[0m\u001b[1;33m)\u001b[0m\u001b[1;33m\u001b[0m\u001b[1;33m\u001b[0m\u001b[0m\n\u001b[0m",
      "\u001b[1;31mTypeError\u001b[0m: hello() missing 1 required positional argument: 'age'"
     ]
    }
   ],
   "source": [
    "hello(\"Gokul\")"
   ]
  },
  {
   "cell_type": "code",
   "execution_count": 31,
   "id": "4dbc8b14",
   "metadata": {},
   "outputs": [],
   "source": [
    "def hello(name,age=28):\n",
    "    print(\"my name is {} and age is {} \".format(name,age))"
   ]
  },
  {
   "cell_type": "code",
   "execution_count": 32,
   "id": "13b81e8f",
   "metadata": {},
   "outputs": [
    {
     "name": "stdout",
     "output_type": "stream",
     "text": [
      "my name is Gokul and age is 28 \n"
     ]
    }
   ],
   "source": [
    "hello(\"Gokul\")"
   ]
  },
  {
   "cell_type": "code",
   "execution_count": null,
   "id": "d322cc12",
   "metadata": {},
   "outputs": [],
   "source": [
    "def hello(name,age):\n",
    "    print(\"my name is {} and age is {} \".format(name,age))"
   ]
  },
  {
   "cell_type": "code",
   "execution_count": 33,
   "id": "252e4a44",
   "metadata": {},
   "outputs": [
    {
     "name": "stdout",
     "output_type": "stream",
     "text": [
      "my name is Gokul and age is 25 \n"
     ]
    }
   ],
   "source": [
    "hello(\"Gokul\",25)"
   ]
  },
  {
   "cell_type": "code",
   "execution_count": null,
   "id": "d78f9bdd",
   "metadata": {},
   "outputs": [],
   "source": [
    "def hello(name,age=28):\n",
    "    print(\"my name is {} and age is {} \".format(name,age))"
   ]
  },
  {
   "cell_type": "code",
   "execution_count": 34,
   "id": "d1462d06",
   "metadata": {},
   "outputs": [],
   "source": [
    "def hello(*args,**kwargs):\n",
    "    print(args)\n",
    "    print(kwargs)"
   ]
  },
  {
   "cell_type": "code",
   "execution_count": 36,
   "id": "2ee75bca",
   "metadata": {},
   "outputs": [
    {
     "name": "stdout",
     "output_type": "stream",
     "text": [
      "('Gokul', 'Athul')\n",
      "{'age': 29, 'dob': 1995}\n"
     ]
    }
   ],
   "source": [
    "hello('Gokul','Athul',age=29,dob=1995)"
   ]
  },
  {
   "cell_type": "code",
   "execution_count": 38,
   "id": "e6b56120",
   "metadata": {},
   "outputs": [],
   "source": [
    "list1=['Gokul','Athul','Manu']\n",
    "dict_arg={'age': 29, 'dob': 1995}"
   ]
  },
  {
   "cell_type": "code",
   "execution_count": 41,
   "id": "7736cf83",
   "metadata": {},
   "outputs": [
    {
     "name": "stdout",
     "output_type": "stream",
     "text": [
      "(['Gokul', 'Athul', 'Manu'], {'age': 29, 'dob': 1995})\n",
      "{}\n"
     ]
    }
   ],
   "source": [
    "hello(list1,dict_arg)"
   ]
  },
  {
   "cell_type": "code",
   "execution_count": 42,
   "id": "47c111c5",
   "metadata": {},
   "outputs": [
    {
     "name": "stdout",
     "output_type": "stream",
     "text": [
      "(['Gokul', 'Athul', 'Manu'],)\n",
      "{'age': 29, 'dob': 1995}\n"
     ]
    }
   ],
   "source": [
    "hello(list1,**dict_arg)"
   ]
  },
  {
   "cell_type": "code",
   "execution_count": 44,
   "id": "420274d9",
   "metadata": {},
   "outputs": [],
   "source": [
    "list1=[2,3,4,5,6,5,7,8,9]"
   ]
  },
  {
   "cell_type": "code",
   "execution_count": 49,
   "id": "e72d6c63",
   "metadata": {},
   "outputs": [],
   "source": [
    "def evenodd_sum(lst):\n",
    "    even_sum=0\n",
    "    odd_sum=0\n",
    "    for i in list1:\n",
    "        if i%2==0:\n",
    "            even_sum=even_sum+i\n",
    "        else:\n",
    "            odd_sum=odd_sum+i\n",
    "    return even_sum,odd_sum         "
   ]
  },
  {
   "cell_type": "code",
   "execution_count": 50,
   "id": "3217ea11",
   "metadata": {},
   "outputs": [
    {
     "data": {
      "text/plain": [
       "(20, 29)"
      ]
     },
     "execution_count": 50,
     "metadata": {},
     "output_type": "execute_result"
    }
   ],
   "source": [
    "evenodd_sum(list1) # you can return multiple parameters from a particular function"
   ]
  },
  {
   "cell_type": "markdown",
   "id": "e0f0c024",
   "metadata": {},
   "source": [
    "### LambdaFunction"
   ]
  },
  {
   "cell_type": "code",
   "execution_count": null,
   "id": "f0a3261b",
   "metadata": {},
   "outputs": [],
   "source": [
    "#also caled anonymous function\n",
    "# function with no name\n",
    "# it will only be possible if  you just have a single expression"
   ]
  },
  {
   "cell_type": "code",
   "execution_count": 52,
   "id": "dd956a58",
   "metadata": {},
   "outputs": [],
   "source": [
    "def addition(a,d):\n",
    "    return a+d\n"
   ]
  },
  {
   "cell_type": "code",
   "execution_count": 53,
   "id": "3d0b1f5e",
   "metadata": {},
   "outputs": [
    {
     "data": {
      "text/plain": [
       "9"
      ]
     },
     "execution_count": 53,
     "metadata": {},
     "output_type": "execute_result"
    }
   ],
   "source": [
    "addition(4,5)"
   ]
  },
  {
   "cell_type": "code",
   "execution_count": 54,
   "id": "0b165f91",
   "metadata": {},
   "outputs": [],
   "source": [
    "l1=lambda a,b:a+b"
   ]
  },
  {
   "cell_type": "code",
   "execution_count": 55,
   "id": "ffb4519a",
   "metadata": {},
   "outputs": [
    {
     "data": {
      "text/plain": [
       "5"
      ]
     },
     "execution_count": 55,
     "metadata": {},
     "output_type": "execute_result"
    }
   ],
   "source": [
    "l1(2,3)"
   ]
  },
  {
   "cell_type": "code",
   "execution_count": 56,
   "id": "2d303e30",
   "metadata": {},
   "outputs": [],
   "source": [
    "def even(num):\n",
    "    if num%2==0:\n",
    "        return True\n",
    "    "
   ]
  },
  {
   "cell_type": "code",
   "execution_count": 57,
   "id": "e2962609",
   "metadata": {},
   "outputs": [
    {
     "data": {
      "text/plain": [
       "True"
      ]
     },
     "execution_count": 57,
     "metadata": {},
     "output_type": "execute_result"
    }
   ],
   "source": [
    "even(8)"
   ]
  },
  {
   "cell_type": "code",
   "execution_count": 58,
   "id": "f8b6b5e5",
   "metadata": {},
   "outputs": [],
   "source": [
    "l=lambda a:a%2==0"
   ]
  },
  {
   "cell_type": "code",
   "execution_count": 59,
   "id": "fa8470c3",
   "metadata": {},
   "outputs": [
    {
     "data": {
      "text/plain": [
       "False"
      ]
     },
     "execution_count": 59,
     "metadata": {},
     "output_type": "execute_result"
    }
   ],
   "source": [
    "l(3)"
   ]
  },
  {
   "cell_type": "code",
   "execution_count": 60,
   "id": "f7e2824a",
   "metadata": {},
   "outputs": [
    {
     "data": {
      "text/plain": [
       "True"
      ]
     },
     "execution_count": 60,
     "metadata": {},
     "output_type": "execute_result"
    }
   ],
   "source": [
    "l(30)"
   ]
  },
  {
   "cell_type": "code",
   "execution_count": 61,
   "id": "8967446b",
   "metadata": {},
   "outputs": [],
   "source": [
    "def add_three(x,y,z):\n",
    "    return x+y+z"
   ]
  },
  {
   "cell_type": "code",
   "execution_count": 62,
   "id": "1f89929a",
   "metadata": {},
   "outputs": [
    {
     "data": {
      "text/plain": [
       "9"
      ]
     },
     "execution_count": 62,
     "metadata": {},
     "output_type": "execute_result"
    }
   ],
   "source": [
    "add_three(2,3,4)"
   ]
  },
  {
   "cell_type": "code",
   "execution_count": 63,
   "id": "a40e416a",
   "metadata": {},
   "outputs": [],
   "source": [
    "l2=lambda a,b,c:a+b+c"
   ]
  },
  {
   "cell_type": "code",
   "execution_count": 64,
   "id": "81706dc9",
   "metadata": {},
   "outputs": [
    {
     "data": {
      "text/plain": [
       "15"
      ]
     },
     "execution_count": 64,
     "metadata": {},
     "output_type": "execute_result"
    }
   ],
   "source": [
    "l2(5,5,5)"
   ]
  },
  {
   "cell_type": "markdown",
   "id": "a1d7a06a",
   "metadata": {},
   "source": [
    "### Map Function in Python"
   ]
  },
  {
   "cell_type": "code",
   "execution_count": 87,
   "id": "1c7f724b",
   "metadata": {},
   "outputs": [],
   "source": [
    "def eve_odd(num):\n",
    "    if num%2==0:\n",
    "        return \"The number {} is Even\".format(num)\n",
    "    else:\n",
    "        return \"The {} is Odd\".format(num)"
   ]
  },
  {
   "cell_type": "code",
   "execution_count": 88,
   "id": "ac985467",
   "metadata": {},
   "outputs": [
    {
     "data": {
      "text/plain": [
       "'The number 8 is Even'"
      ]
     },
     "execution_count": 88,
     "metadata": {},
     "output_type": "execute_result"
    }
   ],
   "source": [
    "eve_odd(8)"
   ]
  },
  {
   "cell_type": "code",
   "execution_count": 97,
   "id": "be5b6efd",
   "metadata": {},
   "outputs": [],
   "source": [
    "lst=[1,2,3,4,5,6,7,8,9,23,33,43,54,45]\n",
    "# one way is loop through all, here the problem is you need to iterate throuh all"
   ]
  },
  {
   "cell_type": "code",
   "execution_count": 98,
   "id": "bdb45be9",
   "metadata": {},
   "outputs": [
    {
     "data": {
      "text/plain": [
       "<map at 0x1755509ddf0>"
      ]
     },
     "execution_count": 98,
     "metadata": {},
     "output_type": "execute_result"
    }
   ],
   "source": [
    "map(eve_odd,lst)"
   ]
  },
  {
   "cell_type": "code",
   "execution_count": 103,
   "id": "fe51bb84",
   "metadata": {},
   "outputs": [
    {
     "ename": "TypeError",
     "evalue": "'list' object is not callable",
     "output_type": "error",
     "traceback": [
      "\u001b[1;31m---------------------------------------------------------------------------\u001b[0m",
      "\u001b[1;31mTypeError\u001b[0m                                 Traceback (most recent call last)",
      "\u001b[1;32m~\\AppData\\Local\\Temp\\ipykernel_15868\\3966407858.py\u001b[0m in \u001b[0;36m<module>\u001b[1;34m\u001b[0m\n\u001b[0;32m      6\u001b[0m \u001b[1;33m\u001b[0m\u001b[0m\n\u001b[0;32m      7\u001b[0m \u001b[0mlst\u001b[0m\u001b[1;33m=\u001b[0m\u001b[1;33m[\u001b[0m\u001b[1;36m1\u001b[0m\u001b[1;33m,\u001b[0m\u001b[1;36m2\u001b[0m\u001b[1;33m,\u001b[0m\u001b[1;36m3\u001b[0m\u001b[1;33m,\u001b[0m\u001b[1;36m4\u001b[0m\u001b[1;33m,\u001b[0m\u001b[1;36m5\u001b[0m\u001b[1;33m,\u001b[0m\u001b[1;36m6\u001b[0m\u001b[1;33m,\u001b[0m\u001b[1;36m7\u001b[0m\u001b[1;33m,\u001b[0m\u001b[1;36m8\u001b[0m\u001b[1;33m,\u001b[0m\u001b[1;36m9\u001b[0m\u001b[1;33m,\u001b[0m\u001b[1;36m23\u001b[0m\u001b[1;33m,\u001b[0m\u001b[1;36m33\u001b[0m\u001b[1;33m,\u001b[0m\u001b[1;36m43\u001b[0m\u001b[1;33m,\u001b[0m\u001b[1;36m54\u001b[0m\u001b[1;33m,\u001b[0m\u001b[1;36m45\u001b[0m\u001b[1;33m]\u001b[0m\u001b[1;33m\u001b[0m\u001b[1;33m\u001b[0m\u001b[0m\n\u001b[1;32m----> 8\u001b[1;33m \u001b[0mresult\u001b[0m\u001b[1;33m=\u001b[0m\u001b[0mlist\u001b[0m\u001b[1;33m(\u001b[0m\u001b[0mmap\u001b[0m\u001b[1;33m(\u001b[0m\u001b[0meve_odd\u001b[0m\u001b[1;33m,\u001b[0m\u001b[0mlst\u001b[0m\u001b[1;33m)\u001b[0m\u001b[1;33m)\u001b[0m\u001b[1;33m\u001b[0m\u001b[1;33m\u001b[0m\u001b[0m\n\u001b[0m\u001b[0;32m      9\u001b[0m \u001b[0mprint\u001b[0m\u001b[1;33m(\u001b[0m\u001b[0mresult\u001b[0m\u001b[1;33m)\u001b[0m\u001b[1;33m\u001b[0m\u001b[1;33m\u001b[0m\u001b[0m\n",
      "\u001b[1;31mTypeError\u001b[0m: 'list' object is not callable"
     ]
    }
   ],
   "source": [
    "def eve_odd(num):\n",
    "    if num%2==0:\n",
    "        return \"The number {} is Even\".format(num)\n",
    "    else:\n",
    "        return \"The {} is Odd\".format(num)\n",
    "\n",
    "lst=[1,2,3,4,5,6,7,8,9,23,33,43,54,45]\n",
    "result=list(map(eve_odd,lst))\n",
    "print(result)"
   ]
  },
  {
   "cell_type": "code",
   "execution_count": null,
   "id": "99026c17",
   "metadata": {},
   "outputs": [],
   "source": []
  },
  {
   "cell_type": "code",
   "execution_count": null,
   "id": "897f6395",
   "metadata": {},
   "outputs": [],
   "source": []
  },
  {
   "cell_type": "code",
   "execution_count": null,
   "id": "7acc2de1",
   "metadata": {},
   "outputs": [],
   "source": []
  },
  {
   "cell_type": "code",
   "execution_count": null,
   "id": "36c39d22",
   "metadata": {},
   "outputs": [],
   "source": []
  },
  {
   "cell_type": "code",
   "execution_count": null,
   "id": "2da3e323",
   "metadata": {},
   "outputs": [],
   "source": []
  },
  {
   "cell_type": "code",
   "execution_count": null,
   "id": "7ce0ba71",
   "metadata": {},
   "outputs": [],
   "source": []
  },
  {
   "cell_type": "code",
   "execution_count": null,
   "id": "d694cebc",
   "metadata": {},
   "outputs": [],
   "source": []
  },
  {
   "cell_type": "code",
   "execution_count": null,
   "id": "ce3f480c",
   "metadata": {},
   "outputs": [],
   "source": []
  },
  {
   "cell_type": "code",
   "execution_count": null,
   "id": "e2376a9b",
   "metadata": {},
   "outputs": [],
   "source": []
  },
  {
   "cell_type": "code",
   "execution_count": null,
   "id": "9db6afba",
   "metadata": {},
   "outputs": [],
   "source": []
  },
  {
   "cell_type": "code",
   "execution_count": null,
   "id": "684ff36c",
   "metadata": {},
   "outputs": [],
   "source": []
  },
  {
   "cell_type": "code",
   "execution_count": null,
   "id": "6b574e49",
   "metadata": {},
   "outputs": [],
   "source": []
  },
  {
   "cell_type": "code",
   "execution_count": null,
   "id": "66aaf00b",
   "metadata": {},
   "outputs": [],
   "source": []
  },
  {
   "cell_type": "code",
   "execution_count": null,
   "id": "bb0a0dce",
   "metadata": {},
   "outputs": [],
   "source": []
  },
  {
   "cell_type": "code",
   "execution_count": null,
   "id": "8c7adc22",
   "metadata": {},
   "outputs": [],
   "source": []
  },
  {
   "cell_type": "code",
   "execution_count": null,
   "id": "af26a62c",
   "metadata": {},
   "outputs": [],
   "source": []
  },
  {
   "cell_type": "code",
   "execution_count": null,
   "id": "c4bad0b2",
   "metadata": {},
   "outputs": [],
   "source": []
  },
  {
   "cell_type": "code",
   "execution_count": null,
   "id": "7eb5013c",
   "metadata": {},
   "outputs": [],
   "source": []
  },
  {
   "cell_type": "code",
   "execution_count": null,
   "id": "1c681bbe",
   "metadata": {},
   "outputs": [],
   "source": []
  },
  {
   "cell_type": "code",
   "execution_count": null,
   "id": "e8771e6e",
   "metadata": {},
   "outputs": [],
   "source": []
  },
  {
   "cell_type": "code",
   "execution_count": null,
   "id": "34f083ea",
   "metadata": {},
   "outputs": [],
   "source": []
  },
  {
   "cell_type": "code",
   "execution_count": null,
   "id": "0830796d",
   "metadata": {},
   "outputs": [],
   "source": []
  },
  {
   "cell_type": "code",
   "execution_count": null,
   "id": "b1f37a1f",
   "metadata": {},
   "outputs": [],
   "source": []
  },
  {
   "cell_type": "code",
   "execution_count": null,
   "id": "746ce99f",
   "metadata": {},
   "outputs": [],
   "source": [
    "  \n"
   ]
  },
  {
   "cell_type": "code",
   "execution_count": null,
   "id": "6fe9fd1e",
   "metadata": {},
   "outputs": [],
   "source": []
  },
  {
   "cell_type": "code",
   "execution_count": null,
   "id": "71a5e837",
   "metadata": {},
   "outputs": [],
   "source": []
  },
  {
   "cell_type": "code",
   "execution_count": null,
   "id": "84ac57fb",
   "metadata": {},
   "outputs": [],
   "source": []
  },
  {
   "cell_type": "code",
   "execution_count": null,
   "id": "7e24555b",
   "metadata": {},
   "outputs": [],
   "source": []
  },
  {
   "cell_type": "code",
   "execution_count": null,
   "id": "5adbd61a",
   "metadata": {},
   "outputs": [],
   "source": []
  },
  {
   "cell_type": "code",
   "execution_count": null,
   "id": "72c6711a",
   "metadata": {},
   "outputs": [],
   "source": []
  },
  {
   "cell_type": "code",
   "execution_count": null,
   "id": "4470f137",
   "metadata": {},
   "outputs": [],
   "source": []
  },
  {
   "cell_type": "code",
   "execution_count": null,
   "id": "06147dec",
   "metadata": {},
   "outputs": [],
   "source": []
  },
  {
   "cell_type": "code",
   "execution_count": null,
   "id": "2052a9b7",
   "metadata": {},
   "outputs": [],
   "source": []
  },
  {
   "cell_type": "code",
   "execution_count": null,
   "id": "1db2b322",
   "metadata": {},
   "outputs": [],
   "source": []
  },
  {
   "cell_type": "code",
   "execution_count": null,
   "id": "e20ec13b",
   "metadata": {},
   "outputs": [],
   "source": []
  }
 ],
 "metadata": {
  "kernelspec": {
   "display_name": "Python 3 (ipykernel)",
   "language": "python",
   "name": "python3"
  },
  "language_info": {
   "codemirror_mode": {
    "name": "ipython",
    "version": 3
   },
   "file_extension": ".py",
   "mimetype": "text/x-python",
   "name": "python",
   "nbconvert_exporter": "python",
   "pygments_lexer": "ipython3",
   "version": "3.9.13"
  }
 },
 "nbformat": 4,
 "nbformat_minor": 5
}
